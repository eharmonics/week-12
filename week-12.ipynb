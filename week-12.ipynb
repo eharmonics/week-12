{
 "cells": [
  {
   "cell_type": "code",
   "execution_count": 1,
   "id": "8960665a",
   "metadata": {},
   "outputs": [],
   "source": [
    "import pandas as pd\n",
    "\n",
    "# Load the dataset into a pandas DataFrame\n",
    "df = pd.read_csv('https://archive.ics.uci.edu/ml/machine-learning-databases/mushroom/agaricus-lepiota.data',\n",
    "                 header=None)\n",
    "\n",
    "# Subset the DataFrame to include the columns of interest\n",
    "df_subset = df[[0, 5, 22]]\n",
    "\n",
    "# Add meaningful names for each column\n",
    "df_subset.columns = ['edible', 'odor', 'stalk-surface-above-ring']\n"
   ]
  },
  {
   "cell_type": "code",
   "execution_count": 2,
   "id": "0b261a54",
   "metadata": {},
   "outputs": [
    {
     "name": "stderr",
     "output_type": "stream",
     "text": [
      "C:\\Users\\EHTISH~1\\AppData\\Local\\Temp/ipykernel_10344/68789018.py:2: SettingWithCopyWarning: \n",
      "A value is trying to be set on a copy of a slice from a DataFrame.\n",
      "Try using .loc[row_indexer,col_indexer] = value instead\n",
      "\n",
      "See the caveats in the documentation: https://pandas.pydata.org/pandas-docs/stable/user_guide/indexing.html#returning-a-view-versus-a-copy\n",
      "  df_subset['edible'] = df_subset['edible'].replace({'e': 0, 'p': 1})\n"
     ]
    }
   ],
   "source": [
    "# Replace codes used in the 'edible' column with numeric values\n",
    "df_subset['edible'] = df_subset['edible'].replace({'e': 0, 'p': 1})\n"
   ]
  },
  {
   "cell_type": "code",
   "execution_count": 3,
   "id": "3734e233",
   "metadata": {},
   "outputs": [
    {
     "name": "stdout",
     "output_type": "stream",
     "text": [
      "0    4208\n",
      "1    3916\n",
      "Name: edible, dtype: int64\n",
      "n    3528\n",
      "f    2160\n",
      "y     576\n",
      "s     576\n",
      "a     400\n",
      "l     400\n",
      "p     256\n",
      "c     192\n",
      "m      36\n",
      "Name: odor, dtype: int64\n",
      "d    3148\n",
      "g    2148\n",
      "p    1144\n",
      "l     832\n",
      "u     368\n",
      "m     292\n",
      "w     192\n",
      "Name: stalk-surface-above-ring, dtype: int64\n"
     ]
    }
   ],
   "source": [
    "# Show the distribution of data for each column\n",
    "for column in df_subset.columns:\n",
    "    print(df_subset[column].value_counts())\n"
   ]
  },
  {
   "cell_type": "code",
   "execution_count": 4,
   "id": "0fa63745",
   "metadata": {},
   "outputs": [
    {
     "data": {
      "image/png": "[encoded data removed]",
      "text/plain": [
       "<Figure size 432x288 with 1 Axes>"
      ]
     },
     "metadata": {
      "needs_background": "light"
     },
     "output_type": "display_data"
    }
   ],
   "source": [
    "import matplotlib.pyplot as plt\n",
    "\n",
    "plt.scatter(df_subset['odor'], df_subset['edible'])\n",
    "plt.xlabel('odor')\n",
    "plt.ylabel('edible/poisonous')\n",
    "plt.show()"
   ]
  },
  {
   "cell_type": "code",
   "execution_count": 5,
   "id": "fe68b8cc",
   "metadata": {},
   "outputs": [
    {
     "data": {
      "image/png": "[encoded data removed]",
      "text/plain": [
       "<Figure size 432x288 with 1 Axes>"
      ]
     },
     "metadata": {
      "needs_background": "light"
     },
     "output_type": "display_data"
    }
   ],
   "source": [
    "plt.scatter(df_subset['stalk-surface-above-ring'], df_subset['edible'])\n",
    "plt.xlabel('stalk-surface-above-ring')\n",
    "plt.ylabel('edible/poisonous')\n",
    "plt.show()"
   ]
  },
  {
   "cell_type": "markdown",
   "id": "bebb5b1e",
   "metadata": {},
   "source": [
    "Based on the exploratory data analysis, you can draw preliminary conclusions about whether either of the other columns could be helpful in predicting if a specific mushroom is edible or poisonous. For example, from the scatterplots, you may notice that there is a clear separation between the values for 'odor' and 'edible/poisonous', indicating that 'odor' could be a good predictor of whether a mushroom is edible or poisonous. On the other hand, the scatterplot for 'stalk-surface-ab"
   ]
  },
  {
   "cell_type": "code",
   "execution_count": null,
   "id": "b21bbf6d",
   "metadata": {},
   "outputs": [],
   "source": []
  }
 ],
 "metadata": {
  "kernelspec": {
   "display_name": "Python 3 (ipykernel)",
   "language": "python",
   "name": "python3"
  },
  "language_info": {
   "codemirror_mode": {
    "name": "ipython",
    "version": 3
   },
   "file_extension": ".py",
   "mimetype": "text/x-python",
   "name": "python",
   "nbconvert_exporter": "python",
   "pygments_lexer": "ipython3",
   "version": "3.9.7"
  }
 },
 "nbformat": 4,
 "nbformat_minor": 5
}
